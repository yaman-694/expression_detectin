{
 "cells": [
  {
   "cell_type": "code",
   "execution_count": 1,
   "id": "6debedc0",
   "metadata": {},
   "outputs": [],
   "source": [
    "# ! unzip expression.zip"
   ]
  },
  {
   "cell_type": "code",
   "execution_count": 2,
   "id": "8b9f9163",
   "metadata": {},
   "outputs": [],
   "source": [
    "import numpy as np\n",
    "import matplotlib.pyplot as plt\n",
    "import matplotlib\n",
    "import os\n",
    "import cv2\n",
    "from skimage.io import imread\n",
    "from skimage.transform import resize    \n",
    "import pandas as pd   \n",
    "from sklearn.metrics import classification_report, confusion_matrix, accuracy_score\n",
    "from sklearn.metrics import roc_curve\n",
    "import seaborn as sns"
   ]
  },
  {
   "cell_type": "markdown",
   "id": "dfd383a7",
   "metadata": {},
   "source": [
    "### Function to convert image to flatten array"
   ]
  },
  {
   "cell_type": "code",
   "execution_count": 3,
   "id": "1fa5b066",
   "metadata": {},
   "outputs": [],
   "source": [
    "DATADIR = 'E:/yaman/python/gender/expression/images/train/'\n",
    "CATEGORIES = ['happy','sad']"
   ]
  },
  {
   "cell_type": "code",
   "execution_count": 7,
   "id": "8debea61",
   "metadata": {
    "scrolled": false
   },
   "outputs": [
    {
     "ename": "IndentationError",
     "evalue": "unindent does not match any outer indentation level (<tokenize>, line 15)",
     "output_type": "error",
     "traceback": [
      "\u001b[1;36m  File \u001b[1;32m\"<tokenize>\"\u001b[1;36m, line \u001b[1;32m15\u001b[0m\n\u001b[1;33m    break\u001b[0m\n\u001b[1;37m    ^\u001b[0m\n\u001b[1;31mIndentationError\u001b[0m\u001b[1;31m:\u001b[0m unindent does not match any outer indentation level\n"
     ]
    }
   ],
   "source": [
    "label = [] \n",
    "train_data=[]\n",
    "for category in CATEGORIES:\n",
    "      class_num=CATEGORIES.index(category)\n",
    "      path=os.path.join(DATADIR,category)\n",
    "      for img in os.listdir(path):\n",
    "        img_array=imread(os.path.join(path,img))\n",
    "        img_resized=resize(img_array,(25,25,2))\n",
    "        img_black = np.mean(img_resized, axis=2)\n",
    "        plt.imshow(img_black,cmap='gray')\n",
    "        plt.show()\n",
    "        train_data.append(img_black.flatten())\n",
    "        label.append(class_num)\n",
    "        break\n",
    "    break\n",
    "len(train_data[0])\n"
   ]
  },
  {
   "cell_type": "markdown",
   "id": "540076fa",
   "metadata": {},
   "source": [
    "### Converting image to training dataframe"
   ]
  },
  {
   "cell_type": "code",
   "execution_count": 8,
   "id": "8eff7669",
   "metadata": {},
   "outputs": [],
   "source": [
    "# label = []\n",
    "# train_data = []\n",
    "\n",
    "# def create_training_data():\n",
    "#     for category in CATEGORIES:\n",
    "#       class_num=CATEGORIES.index(category)\n",
    "#       path=os.path.join(DATADIR,category)\n",
    "#       for img in os.listdir(path):\n",
    "#         img_array=imread(os.path.join(path,img))\n",
    "#         img_resized=resize(img_array,(30,30,3))\n",
    "#         img_black = np.mean(img_resized, axis=2)\n",
    "#         train_data.append(img_black.flatten())\n",
    "#         label.append(class_num)\n",
    "# create_training_data()\n",
    "# train_data=np.array(train_data)\n",
    "# label=np.array(label)"
   ]
  },
  {
   "cell_type": "code",
   "execution_count": 9,
   "id": "15157334",
   "metadata": {},
   "outputs": [],
   "source": [
    "# y_train = pd.DataFrame(label)\n",
    "# x_train= pd.DataFrame(train_data)"
   ]
  },
  {
   "cell_type": "code",
   "execution_count": 10,
   "id": "ca0d996f",
   "metadata": {},
   "outputs": [],
   "source": [
    "# DATADIR = 'E:/yaman/python/gender/expression/images/validation/'\n",
    "# CATEGORIES = ['happy','sad']"
   ]
  },
  {
   "cell_type": "markdown",
   "id": "55a7532c",
   "metadata": {},
   "source": [
    "### Converting image to testing dataframe"
   ]
  },
  {
   "cell_type": "code",
   "execution_count": 11,
   "id": "1e336e80",
   "metadata": {},
   "outputs": [],
   "source": [
    "# label = []\n",
    "# test_data = []\n",
    "\n",
    "# def create_training_data():\n",
    "#     for category in CATEGORIES:\n",
    "#       class_num=CATEGORIES.index(category)\n",
    "#       path=os.path.join(DATADIR,category)\n",
    "#       for img in os.listdir(path):\n",
    "#         img_array=imread(os.path.join(path,img))\n",
    "#         img_resized=resize(img_array,(30,30,3))\n",
    "#         img_black = np.mean(img_resized, axis=2)\n",
    "#         test_data.append(img_black.flatten())\n",
    "#         label.append(class_num)\n",
    "# create_training_data()\n",
    "# test_data=np.array(test_data)\n",
    "# label=np.array(label)"
   ]
  },
  {
   "cell_type": "code",
   "execution_count": 12,
   "id": "0a1d6b5e",
   "metadata": {},
   "outputs": [],
   "source": [
    "# y_test = pd.DataFrame(label)\n",
    "# x_test= pd.DataFrame(test_data)"
   ]
  },
  {
   "cell_type": "markdown",
   "id": "44557f40",
   "metadata": {},
   "source": [
    "## Conterving to csv file"
   ]
  },
  {
   "cell_type": "code",
   "execution_count": 13,
   "id": "8e114d16",
   "metadata": {},
   "outputs": [],
   "source": [
    "# train30 = x_train\n",
    "# train30['label'] = y_train\n",
    "# test30=x_test\n",
    "# test30['label'] = y_test\n",
    "\n",
    "# train30.to_csv('train25.csv')\n",
    "# test30.to_csv('test25.csv')\n"
   ]
  },
  {
   "cell_type": "markdown",
   "id": "d3cdfafe",
   "metadata": {},
   "source": [
    "# Importing dataset image size 25 px"
   ]
  },
  {
   "cell_type": "code",
   "execution_count": 14,
   "id": "db38f8ee",
   "metadata": {},
   "outputs": [
    {
     "name": "stdout",
     "output_type": "stream",
     "text": [
      "   Unnamed: 0         0         1         2         3         4         5  \\\n",
      "0           0  0.619980  0.628044  0.637224  0.620775  0.581865  0.545206   \n",
      "1           1  0.756718  0.774187  0.651631  0.294515  0.606577  0.959757   \n",
      "2           2  0.235358  0.161917  0.168816  0.141098  0.156207  0.206551   \n",
      "3           3  0.992157  0.992157  0.988863  0.862623  0.340450  0.158521   \n",
      "4           4  0.015686  0.021098  0.018431  0.017887  0.022169  0.047873   \n",
      "\n",
      "          6         7         8  ...       616       617       618       619  \\\n",
      "0  0.558118  0.579467  0.581906  ...  0.407967  0.359741  0.353617  0.399795   \n",
      "1  0.990353  0.879945  0.870342  ...  0.817197  0.833451  0.828162  0.804369   \n",
      "2  0.373081  0.593129  0.677233  ...  0.180784  0.062212  0.034720  0.096896   \n",
      "3  0.257464  0.691796  0.705162  ...  0.065021  0.049106  0.111843  0.070510   \n",
      "4  0.104350  0.162925  0.206129  ...  0.244089  0.020031  0.018963  0.027186   \n",
      "\n",
      "        620       621       622       623       624  label  \n",
      "0  0.413255  0.399948  0.153427  0.131155  0.142209      0  \n",
      "1  0.943354  0.992157  0.992157  0.992157  0.992157      0  \n",
      "2  0.115835  0.109901  0.102329  0.083765  0.102275      0  \n",
      "3  0.104819  0.085725  0.096384  0.116863  0.167620      0  \n",
      "4  0.024096  0.066030  0.028047  0.022039  0.142712      0  \n",
      "\n",
      "[5 rows x 627 columns]\n"
     ]
    },
    {
     "data": {
      "text/plain": [
       "(2964,)"
      ]
     },
     "execution_count": 14,
     "metadata": {},
     "output_type": "execute_result"
    }
   ],
   "source": [
    "# Dataset with 25 25 img size\n",
    "dataset25 = pd.read_csv('train25.csv')\n",
    "print(pd.DataFrame(dataset25).head())\n",
    "\n",
    "\n",
    "from sklearn.utils import shuffle\n",
    "dataset25 = shuffle(dataset25)\n",
    "x_train = dataset25.iloc[:,1:-1]\n",
    "y_train = dataset25['label']\n",
    "\n",
    "dataset25 = pd.read_csv('test25.csv')\n",
    "\n",
    "## suffle the dataset \n",
    "from sklearn.utils import shuffle\n",
    "dataset25 = shuffle(dataset25)\n",
    "x_test = dataset25.iloc[:,1:-1]\n",
    "y_test = dataset25['label']\n",
    "x_test.head()\n",
    "y_test.shape\n",
    "\n"
   ]
  },
  {
   "cell_type": "code",
   "execution_count": 15,
   "id": "1ab4b236",
   "metadata": {},
   "outputs": [],
   "source": [
    "# dataset25 = pd.read_csv('train25.csv')\n",
    "# sns.heatmap(dataset25.corr(),annot=True)"
   ]
  },
  {
   "cell_type": "code",
   "execution_count": null,
   "id": "3e6c3583",
   "metadata": {},
   "outputs": [],
   "source": []
  },
  {
   "cell_type": "code",
   "execution_count": 16,
   "id": "094ef0cc",
   "metadata": {},
   "outputs": [],
   "source": [
    "# # Dataset with 25 25 img size\n",
    "# dataset30 = pd.read_csv('train30.csv')\n",
    "# from sklearn.utils import shuffle\n",
    "# dataset30 = shuffle(dataset30)\n",
    "# x_train = dataset25.iloc[:,1:-1]\n",
    "# y_train = dataset25.iloc[:,-1]\n",
    "\n",
    "# dataset30 = pd.read_csv('test30.csv')\n",
    "# from sklearn.utils import shuffle\n",
    "# dataset30 = shuffle(dataset30)\n",
    "# x_test = dataset30.iloc[:,1:-1]\n",
    "# y_test = dataset30.iloc[:,-1]\n",
    "# # print(x_test.head())\n",
    "# print(y_test.shape)"
   ]
  },
  {
   "cell_type": "markdown",
   "id": "7676898d",
   "metadata": {},
   "source": [
    "## Classification applied"
   ]
  },
  {
   "cell_type": "code",
   "execution_count": 17,
   "id": "0128fb32",
   "metadata": {},
   "outputs": [
    {
     "data": {
      "text/plain": [
       "Text(0, 0.5, 'distribution')"
      ]
     },
     "execution_count": 17,
     "metadata": {},
     "output_type": "execute_result"
    },
    {
     "data": {
      "image/png": "[encoded data removed]",
      "text/plain": [
       "<Figure size 432x288 with 1 Axes>"
      ]
     },
     "metadata": {
      "needs_background": "light"
     },
     "output_type": "display_data"
    }
   ],
   "source": [
    "one = 0\n",
    "zero = 0\n",
    "\n",
    "for i in y_train:\n",
    "    if i == 1:\n",
    "        one+=1\n",
    "    else:\n",
    "        zero+=1\n",
    "        \n",
    "x = [1,0]\n",
    "y = [one,zero]\n",
    "\n",
    "plt.bar(x,y,color=['orange', 'c'])\n",
    "plt.xlabel('label')\n",
    "plt.ylabel('distribution')"
   ]
  },
  {
   "cell_type": "markdown",
   "id": "e042f9c8",
   "metadata": {},
   "source": [
    "# Algorithm applied\n"
   ]
  },
  {
   "cell_type": "markdown",
   "id": "7a0c9f3e",
   "metadata": {},
   "source": [
    "## 1)Linear Regression"
   ]
  },
  {
   "cell_type": "code",
   "execution_count": 18,
   "id": "008dff04",
   "metadata": {},
   "outputs": [],
   "source": [
    "from sklearn.linear_model import LinearRegression\n",
    "from sklearn.metrics import mean_squared_error, r2_score\n",
    "regressor = LinearRegression()\n",
    "model = regressor.fit(x_train,y_train)\n",
    "y_pred = model.predict(x_test)\n",
    "linear = r2_score(y_test,y_pred)"
   ]
  },
  {
   "cell_type": "markdown",
   "id": "5037d893",
   "metadata": {},
   "source": [
    "## 2) SVM"
   ]
  },
  {
   "cell_type": "code",
   "execution_count": 19,
   "id": "ac76e831",
   "metadata": {},
   "outputs": [
    {
     "data": {
      "text/plain": [
       "0.47098800918854544"
      ]
     },
     "execution_count": 19,
     "metadata": {},
     "output_type": "execute_result"
    }
   ],
   "source": [
    "from sklearn.svm import SVC\n",
    "from sklearn.pipeline import make_pipeline\n",
    "from sklearn.preprocessing import StandardScaler\n",
    "clf = make_pipeline(StandardScaler(), SVC(gamma='auto'))\n",
    "model = clf.fit(x_train, y_train)\n",
    "y_pred = model.predict(x_test)\n",
    "svm = r2_score(y_test,y_pred)\n",
    "\n",
    "svm\n",
    "\n"
   ]
  },
  {
   "cell_type": "markdown",
   "id": "0d57a8ee",
   "metadata": {},
   "source": [
    "# Model Evaluation"
   ]
  },
  {
   "cell_type": "code",
   "execution_count": 20,
   "id": "92686f68",
   "metadata": {},
   "outputs": [
    {
     "name": "stdout",
     "output_type": "stream",
     "text": [
      "              precision    recall  f1-score   support\n",
      "\n",
      "       Happy       0.61      0.68      0.64      1825\n",
      "         Sad       0.38      0.32      0.35      1139\n",
      "\n",
      "    accuracy                           0.54      2964\n",
      "   macro avg       0.50      0.50      0.50      2964\n",
      "weighted avg       0.53      0.54      0.53      2964\n",
      "\n",
      "Specificity =  0.6772602739726027\n",
      "Accuracy =  0.5401484480431848\n"
     ]
    },
    {
     "data": {
      "image/png": "[encoded data removed]",
      "text/plain": [
       "<Figure size 432x288 with 2 Axes>"
      ]
     },
     "metadata": {
      "needs_background": "light"
     },
     "output_type": "display_data"
    }
   ],
   "source": [
    "target_names = ['Happy', 'Sad']\n",
    "model_eval = classification_report(y_train, y_pred ,target_names=target_names)\n",
    "print(model_eval)\n",
    "cf = confusion_matrix(y_train, y_pred)\n",
    "Accuracy = accuracy_score(y_train, y_pred)\n",
    "sns.heatmap(cf,cmap='Blues',annot=True,fmt='g')\n",
    "cf_flat = cf.flatten()\n",
    "TN = cf_flat[0]\n",
    "FP = cf_flat[1]\n",
    "FN = cf_flat[2]\n",
    "TP = cf_flat[3]\n",
    "recall = TP/(TP+FN)\n",
    "precision =TP/(TP+FP)\n",
    "\n",
    "specificity = TN/(TN+FP)\n",
    "print('Specificity = ',specificity)\n",
    "print('Accuracy = ',Accuracy)\n",
    "\n"
   ]
  },
  {
   "cell_type": "markdown",
   "id": "ddd75b94",
   "metadata": {},
   "source": [
    "# ROC curve"
   ]
  },
  {
   "cell_type": "code",
   "execution_count": null,
   "id": "c4c0ddb6",
   "metadata": {},
   "outputs": [],
   "source": [
    "from sklearn.metrics import plot_precision_recall_curve\n",
    "from sklearn.metrics import roc_curve, auc\n",
    "import plotly.express as px\n",
    "fpr, tpr, thresholds = roc_curve(y_train,y_pred)\n",
    "\n",
    "fig = px.area(\n",
    "    x=fpr, y=tpr,\n",
    "    title=f'ROC Curve (AUC={auc(fpr, tpr):.4f})',\n",
    "    labels=dict(x='False Positive Rate', y='True Positive Rate'),\n",
    "    width=700, height=500\n",
    ")\n",
    "fig.add_shape(\n",
    "    type='line', line=dict(dash='dash'),\n",
    "    x0=0, x1=1, y0=0, y1=1\n",
    ")\n",
    "\n",
    "fig.update_yaxes(scaleanchor=\"x\", scaleratio=1)\n",
    "fig.update_xaxes(constrain='domain')\n",
    "fig.show()"
   ]
  },
  {
   "cell_type": "markdown",
   "id": "116d2303",
   "metadata": {},
   "source": [
    "# PR curve"
   ]
  },
  {
   "cell_type": "code",
   "execution_count": null,
   "id": "c9cb042e",
   "metadata": {},
   "outputs": [],
   "source": [
    "import plotly.express as px\n",
    "from sklearn.linear_model import LogisticRegression\n",
    "from sklearn.metrics import precision_recall_curve, auc\n",
    "from sklearn.datasets import make_classification\n",
    "\n",
    "\n",
    "precision, recall, thresholds = precision_recall_curve(y_test, y_pred)\n",
    "\n",
    "fig = px.area(\n",
    "    x=recall, y=precision,\n",
    "    title=f'Precision-Recall Curve (AUC={auc(fpr, tpr):.4f})',\n",
    "    labels=dict(x='Recall', y='Precision'),\n",
    "    width=700, height=500\n",
    ")\n",
    "fig.add_shape(\n",
    "    type='line', line=dict(dash='dash'),\n",
    "    x0=0, x1=1, y0=1, y1=0\n",
    ")\n",
    "fig.update_yaxes(scaleanchor=\"x\", scaleratio=1)\n",
    "fig.update_xaxes(constrain='domain')\n",
    "\n",
    "fig.show()\n"
   ]
  },
  {
   "cell_type": "markdown",
   "id": "7fe182e7",
   "metadata": {},
   "source": [
    "# Logistic Regression"
   ]
  },
  {
   "cell_type": "code",
   "execution_count": null,
   "id": "05652ba1",
   "metadata": {},
   "outputs": [],
   "source": [
    "from sklearn.linear_model import LogisticRegression\n",
    "clf = LogisticRegression().fit(x_train,y_train)\n",
    "y_pred = clf.predict(x_test)\n",
    "logistic = r2_score(y_test,y_pred)\n",
    "# plt.bar(y_test,y_pred,color=['red', 'blue'])\n",
    "logistic"
   ]
  },
  {
   "cell_type": "markdown",
   "id": "9809f4ba",
   "metadata": {},
   "source": [
    "# Model Evaluation"
   ]
  },
  {
   "cell_type": "code",
   "execution_count": null,
   "id": "f9c8e5fe",
   "metadata": {},
   "outputs": [],
   "source": [
    "target_names = ['Happy', 'Sad']\n",
    "model_eval = classification_report(y_train, y_pred ,target_names=target_names)\n",
    "print(model_eval)\n",
    "cf = confusion_matrix(y_train, y_pred)\n",
    "Accuracy = accuracy_score(y_train, y_pred)\n",
    "sns.heatmap(cf,cmap='Blues',annot=True,fmt='g')\n",
    "cf_flat = cf.flatten()\n",
    "TN = cf_flat[0]\n",
    "FP = cf_flat[1]\n",
    "FN = cf_flat[2]\n",
    "TP = cf_flat[3]\n",
    "recall = TP/(TP+FN)\n",
    "precision =TP/(TP+FP)\n",
    "\n",
    "specificity = TN/(TN+FP)\n",
    "print('Specificity = ',specificity)\n",
    "print('Accuracy = ',Accuracy)\n",
    "\n",
    "from sklearn.metrics import plot_precision_recall_curve\n",
    "from sklearn.metrics import roc_curve, auc\n",
    "import plotly.express as px\n",
    "fpr, tpr, thresholds = roc_curve(y_train,y_pred)\n",
    "\n",
    "fig = px.area(\n",
    "    x=fpr, y=tpr,\n",
    "    title=f'ROC Curve (AUC={auc(fpr, tpr):.4f})',\n",
    "    labels=dict(x='False Positive Rate', y='True Positive Rate'),\n",
    "    width=700, height=500\n",
    ")\n",
    "fig.add_shape(\n",
    "    type='line', line=dict(dash='dash'),\n",
    "    x0=0, x1=1, y0=0, y1=1\n",
    ")\n",
    "\n",
    "fig.update_yaxes(scaleanchor=\"x\", scaleratio=1)\n",
    "fig.update_xaxes(constrain='domain')\n",
    "fig.show()\n",
    "\n",
    "import plotly.express as px\n",
    "from sklearn.linear_model import LogisticRegression\n",
    "from sklearn.metrics import precision_recall_curve, auc\n",
    "from sklearn.datasets import make_classification\n",
    "\n",
    "\n",
    "precision, recall, thresholds = precision_recall_curve(y_test, y_pred)\n",
    "\n",
    "fig = px.area(\n",
    "    x=recall, y=precision,\n",
    "    title=f'Precision-Recall Curve (AUC={auc(fpr, tpr):.4f})',\n",
    "    labels=dict(x='Recall', y='Precision'),\n",
    "    width=700, height=500\n",
    ")\n",
    "fig.add_shape(\n",
    "    type='line', line=dict(dash='dash'),\n",
    "    x0=0, x1=1, y0=1, y1=0\n",
    ")\n",
    "fig.update_yaxes(scaleanchor=\"x\", scaleratio=1)\n",
    "fig.update_xaxes(constrain='domain')\n",
    "\n",
    "fig.show()\n"
   ]
  },
  {
   "cell_type": "markdown",
   "id": "b5489907",
   "metadata": {},
   "source": [
    "## 4) Decision tree\n"
   ]
  },
  {
   "cell_type": "code",
   "execution_count": null,
   "id": "d82618b0",
   "metadata": {},
   "outputs": [],
   "source": [
    "from sklearn.tree import DecisionTreeClassifier\n",
    "from sklearn.model_selection import cross_val_score\n",
    "DecisionTreemodel = DecisionTreeClassifier()\n",
    "model = DecisionTreemodel.fit(x_train,y_train)\n",
    "cross_val_score(DecisionTreemodel,x_train,y_train,cv=10)\n",
    "y_pred = model.predict(x_test)\n",
    "decisiontree = model.score(x_test,y_test)\n",
    "# plt.bar(y_test,y_pred,color=['red', 'blue'])\n",
    "decisiontree"
   ]
  },
  {
   "cell_type": "markdown",
   "id": "9ff7b6b5",
   "metadata": {},
   "source": [
    "# Model Evaluation\n"
   ]
  },
  {
   "cell_type": "code",
   "execution_count": null,
   "id": "bb333ddc",
   "metadata": {},
   "outputs": [],
   "source": [
    "target_names = ['Happy', 'Sad']\n",
    "model_eval = classification_report(y_train, y_pred ,target_names=target_names)\n",
    "print(model_eval)\n",
    "cf = confusion_matrix(y_train, y_pred)\n",
    "Accuracy = accuracy_score(y_train, y_pred)\n",
    "sns.heatmap(cf,cmap='Blues',annot=True,fmt='g')\n",
    "cf_flat = cf.flatten()\n",
    "TN = cf_flat[0]\n",
    "FP = cf_flat[1]\n",
    "FN = cf_flat[2]\n",
    "TP = cf_flat[3]\n",
    "recall = TP/(TP+FN)\n",
    "precision =TP/(TP+FP)\n",
    "\n",
    "specificity = TN/(TN+FP)\n",
    "print('Specificity = ',specificity)\n",
    "print('Accuracy = ',Accuracy)\n",
    "\n",
    "from sklearn.metrics import plot_precision_recall_curve\n",
    "from sklearn.metrics import roc_curve, auc\n",
    "import plotly.express as px\n",
    "fpr, tpr, thresholds = roc_curve(y_train,y_pred)\n",
    "\n",
    "fig = px.area(\n",
    "    x=fpr, y=tpr,\n",
    "    title=f'ROC Curve (AUC={auc(fpr, tpr):.4f})',\n",
    "    labels=dict(x='False Positive Rate', y='True Positive Rate'),\n",
    "    width=700, height=500\n",
    ")\n",
    "fig.add_shape(\n",
    "    type='line', line=dict(dash='dash'),\n",
    "    x0=0, x1=1, y0=0, y1=1\n",
    ")\n",
    "\n",
    "fig.update_yaxes(scaleanchor=\"x\", scaleratio=1)\n",
    "fig.update_xaxes(constrain='domain')\n",
    "fig.show()\n",
    "\n",
    "import plotly.express as px\n",
    "from sklearn.linear_model import LogisticRegression\n",
    "from sklearn.metrics import precision_recall_curve, auc\n",
    "from sklearn.datasets import make_classification\n",
    "\n",
    "\n",
    "precision, recall, thresholds = precision_recall_curve(y_test, y_pred)\n",
    "\n",
    "fig = px.area(\n",
    "    x=recall, y=precision,\n",
    "    title=f'Precision-Recall Curve (AUC={auc(fpr, tpr):.4f})',\n",
    "    labels=dict(x='Recall', y='Precision'),\n",
    "    width=700, height=500\n",
    ")\n",
    "fig.add_shape(\n",
    "    type='line', line=dict(dash='dash'),\n",
    "    x0=0, x1=1, y0=1, y1=0\n",
    ")\n",
    "fig.update_yaxes(scaleanchor=\"x\", scaleratio=1)\n",
    "fig.update_xaxes(constrain='domain')\n",
    "\n",
    "fig.show()\n"
   ]
  },
  {
   "cell_type": "markdown",
   "id": "9fb696cd",
   "metadata": {},
   "source": [
    "## 5) Random Forest\n"
   ]
  },
  {
   "cell_type": "code",
   "execution_count": null,
   "id": "6afda4ab",
   "metadata": {},
   "outputs": [],
   "source": [
    "from sklearn.ensemble import RandomForestClassifier\n",
    "from sklearn.datasets import make_classification\n",
    "\n",
    "x,y = make_classification(n_samples = 1000,n_features=4,\n",
    "                          n_informative=2, n_redundant=0,\n",
    "                          random_state=0, shuffle=False)\n",
    "randomforestmodel = RandomForestClassifier(max_depth=2)\n",
    "randomforestmodel.fit(x_train,y_train)\n",
    "y_pred = randomforestmodel.predict(x_test)\n",
    "random = randomforestmodel.score(x_test,y_test)\n",
    "random"
   ]
  },
  {
   "cell_type": "markdown",
   "id": "ffd1f626",
   "metadata": {},
   "source": [
    "# Model Evaluation\n"
   ]
  },
  {
   "cell_type": "code",
   "execution_count": null,
   "id": "01a365ae",
   "metadata": {},
   "outputs": [],
   "source": [
    "target_names = ['Happy', 'Sad']\n",
    "model_eval = classification_report(y_train, y_pred ,target_names=target_names)\n",
    "print(model_eval)\n",
    "cf = confusion_matrix(y_train, y_pred)\n",
    "Accuracy = accuracy_score(y_train, y_pred)\n",
    "sns.heatmap(cf,cmap='Blues',annot=True,fmt='g')\n",
    "cf_flat = cf.flatten()\n",
    "TN = cf_flat[0]\n",
    "FP = cf_flat[1]\n",
    "FN = cf_flat[2]\n",
    "TP = cf_flat[3]\n",
    "recall = TP/(TP+FN)\n",
    "precision =TP/(TP+FP)\n",
    "\n",
    "specificity = TN/(TN+FP)\n",
    "print('Specificity = ',specificity)\n",
    "print('Accuracy = ',Accuracy)\n",
    "\n",
    "from sklearn.metrics import plot_precision_recall_curve\n",
    "from sklearn.metrics import roc_curve, auc\n",
    "import plotly.express as px\n",
    "fpr, tpr, thresholds = roc_curve(y_train,y_pred)\n",
    "\n",
    "fig = px.area(\n",
    "    x=fpr, y=tpr,\n",
    "    title=f'ROC Curve (AUC={auc(fpr, tpr):.4f})',\n",
    "    labels=dict(x='False Positive Rate', y='True Positive Rate'),\n",
    "    width=700, height=500\n",
    ")\n",
    "fig.add_shape(\n",
    "    type='line', line=dict(dash='dash'),\n",
    "    x0=0, x1=1, y0=0, y1=1\n",
    ")\n",
    "\n",
    "fig.update_yaxes(scaleanchor=\"x\", scaleratio=1)\n",
    "fig.update_xaxes(constrain='domain')\n",
    "fig.show()\n",
    "\n",
    "import plotly.express as px\n",
    "from sklearn.linear_model import LogisticRegression\n",
    "from sklearn.metrics import precision_recall_curve, auc\n",
    "from sklearn.datasets import make_classification\n",
    "\n",
    "\n",
    "precision, recall, thresholds = precision_recall_curve(y_test, y_pred)\n",
    "\n",
    "fig = px.area(\n",
    "    x=recall, y=precision,\n",
    "    title=f'Precision-Recall Curve (AUC={auc(fpr, tpr):.4f})',\n",
    "    labels=dict(x='Recall', y='Precision'),\n",
    "    width=700, height=500\n",
    ")\n",
    "fig.add_shape(\n",
    "    type='line', line=dict(dash='dash'),\n",
    "    x0=0, x1=1, y0=1, y1=0\n",
    ")\n",
    "fig.update_yaxes(scaleanchor=\"x\", scaleratio=1)\n",
    "fig.update_xaxes(constrain='domain')\n",
    "\n",
    "fig.show()\n"
   ]
  },
  {
   "cell_type": "markdown",
   "id": "9d9934d5",
   "metadata": {},
   "source": [
    "## 6) lasso "
   ]
  },
  {
   "cell_type": "code",
   "execution_count": null,
   "id": "0b79d4ba",
   "metadata": {},
   "outputs": [],
   "source": [
    "from sklearn.linear_model import Lasso\n",
    "\n",
    "lassomodel = Lasso(alpha=1)\n",
    "regressor = lassomodel.fit(x_train,y_train)"
   ]
  },
  {
   "cell_type": "code",
   "execution_count": null,
   "id": "4a282378",
   "metadata": {},
   "outputs": [],
   "source": [
    "y_pred = regressor.predict(x_test)\n",
    "lasso = r2_score(y_test,y_pred)\n",
    "print(lasso)"
   ]
  },
  {
   "cell_type": "markdown",
   "id": "9a8a5298",
   "metadata": {},
   "source": [
    "### 7) Ridge"
   ]
  },
  {
   "cell_type": "code",
   "execution_count": null,
   "id": "13045a54",
   "metadata": {},
   "outputs": [],
   "source": [
    "from sklearn.linear_model import Ridge\n",
    "ridge_model = Ridge(alpha = 1.0)\n",
    "ridge_model.fit(x_train,y_train)\n",
    "y_pred = ridge_model.predict(x_test)\n",
    "ridge = ridge_model.score(x_test, y_test)"
   ]
  },
  {
   "cell_type": "markdown",
   "id": "1056bac6",
   "metadata": {},
   "source": [
    "# Naive Bayes"
   ]
  },
  {
   "cell_type": "code",
   "execution_count": null,
   "id": "8bf7b133",
   "metadata": {},
   "outputs": [],
   "source": [
    "from sklearn.naive_bayes import MultinomialNB\n",
    "classifier = MultinomialNB()\n",
    "classifier.fit(x_train,y_train)\n",
    "y_pred = classifier.predict(x_test)\n",
    "naive = classifier.score(x_train,y_train)\n",
    "# sns.heatmap(x_train.corr(),annot=True)"
   ]
  },
  {
   "cell_type": "markdown",
   "id": "4dad3e4a",
   "metadata": {},
   "source": [
    "# Model Evaluation\n"
   ]
  },
  {
   "cell_type": "code",
   "execution_count": null,
   "id": "f3f19c8f",
   "metadata": {},
   "outputs": [],
   "source": [
    "target_names = ['Happy', 'Sad']\n",
    "model_eval = classification_report(y_train, y_pred ,target_names=target_names)\n",
    "print(model_eval)\n",
    "cf = confusion_matrix(y_train, y_pred)\n",
    "Accuracy = accuracy_score(y_train, y_pred)\n",
    "sns.heatmap(cf,cmap='Blues',annot=True,fmt='g')\n",
    "cf_flat = cf.flatten()\n",
    "TN = cf_flat[0]\n",
    "FP = cf_flat[1]\n",
    "FN = cf_flat[2]\n",
    "TP = cf_flat[3]\n",
    "recall = TP/(TP+FN)\n",
    "precision =TP/(TP+FP)\n",
    "\n",
    "specificity = TN/(TN+FP)\n",
    "print('Specificity = ',specificity)\n",
    "print('Accuracy = ',Accuracy)\n",
    "\n",
    "from sklearn.metrics import plot_precision_recall_curve\n",
    "from sklearn.metrics import roc_curve, auc\n",
    "import plotly.express as px\n",
    "fpr, tpr, thresholds = roc_curve(y_train,y_pred)\n",
    "\n",
    "fig = px.area(\n",
    "    x=fpr, y=tpr,\n",
    "    title=f'ROC Curve (AUC={auc(fpr, tpr):.4f})',\n",
    "    labels=dict(x='False Positive Rate', y='True Positive Rate'),\n",
    "    width=700, height=500\n",
    ")\n",
    "fig.add_shape(\n",
    "    type='line', line=dict(dash='dash'),\n",
    "    x0=0, x1=1, y0=0, y1=1\n",
    ")\n",
    "\n",
    "fig.update_yaxes(scaleanchor=\"x\", scaleratio=1)\n",
    "fig.update_xaxes(constrain='domain')\n",
    "fig.show()\n",
    "\n",
    "import plotly.express as px\n",
    "from sklearn.linear_model import LogisticRegression\n",
    "from sklearn.metrics import precision_recall_curve, auc\n",
    "from sklearn.datasets import make_classification\n",
    "\n",
    "\n",
    "precision, recall, thresholds = precision_recall_curve(y_test, y_pred)\n",
    "\n",
    "fig = px.area(\n",
    "    x=recall, y=precision,\n",
    "    title=f'Precision-Recall Curve (AUC={auc(fpr, tpr):.4f})',\n",
    "    labels=dict(x='Recall', y='Precision'),\n",
    "    width=700, height=500\n",
    ")\n",
    "fig.add_shape(\n",
    "    type='line', line=dict(dash='dash'),\n",
    "    x0=0, x1=1, y0=1, y1=0\n",
    ")\n",
    "fig.update_yaxes(scaleanchor=\"x\", scaleratio=1)\n",
    "fig.update_xaxes(constrain='domain')\n",
    "\n",
    "fig.show()\n"
   ]
  },
  {
   "cell_type": "code",
   "execution_count": null,
   "id": "c9addb0e",
   "metadata": {},
   "outputs": [],
   "source": [
    "x = ['Naive Bayes','Linear Regression','Logistic Regression','Random Forest','Decision Tree','SVM','Lasso Regression','Ridge Regression']\n",
    "y = [naive,linear,logistic,random,decisiontree,svm,lasso,ridge]\n",
    "plt.barh(x,y,color=['c','y'])\n",
    "plt.xlabel('Accuracy')\n",
    "plt.ylabel('Regression and classification')\n",
    "plt.title('Accuracy Bar Graph')\n",
    "plt.show()"
   ]
  },
  {
   "cell_type": "code",
   "execution_count": null,
   "id": "f0938780",
   "metadata": {},
   "outputs": [],
   "source": []
  },
  {
   "cell_type": "code",
   "execution_count": null,
   "id": "229418b9",
   "metadata": {},
   "outputs": [],
   "source": []
  }
 ],
 "metadata": {
  "kernelspec": {
   "display_name": "Python 3 (ipykernel)",
   "language": "python",
   "name": "python3"
  },
  "language_info": {
   "codemirror_mode": {
    "name": "ipython",
    "version": 3
   },
   "file_extension": ".py",
   "mimetype": "text/x-python",
   "name": "python",
   "nbconvert_exporter": "python",
   "pygments_lexer": "ipython3",
   "version": "3.9.7"
  }
 },
 "nbformat": 4,
 "nbformat_minor": 5
}
